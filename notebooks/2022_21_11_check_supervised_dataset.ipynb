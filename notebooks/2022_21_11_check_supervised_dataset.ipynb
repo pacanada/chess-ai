{
 "cells": [
  {
   "cell_type": "code",
   "execution_count": null,
   "metadata": {},
   "outputs": [],
   "source": [
    "# The idea of this notebook is to have a look at what is actually going on with the states and if predictions make sense"
   ]
  },
  {
   "cell_type": "code",
   "execution_count": 3,
   "metadata": {},
   "outputs": [],
   "source": [
    "import pandas as pd\n",
    "from chess_ai.rlagent.muzero.utils import MOVES, encode_state\n",
    "from chess_ai.rlagent.muzero.models import AlphazeroNetSupervised\n",
    "from chess_ai.rlagent.muzero.utils import get_root_dir\n",
    "import torch\n",
    "import numpy as np\n",
    "from chess_python.chess import Chess\n",
    "from pathlib import Path"
   ]
  },
  {
   "cell_type": "code",
   "execution_count": 15,
   "metadata": {},
   "outputs": [
    {
     "data": {
      "text/plain": [
       "'/Users/pablocanadapereira/Desktop/Projects/chess-ai/notebooks'"
      ]
     },
     "execution_count": 15,
     "metadata": {},
     "output_type": "execute_result"
    }
   ],
   "source": [
    "import os\n",
    "os.getcwd()"
   ]
  },
  {
   "cell_type": "code",
   "execution_count": 17,
   "metadata": {},
   "outputs": [],
   "source": [
    "buffer = pd.DataFrame()\n",
    "for i in range(4):\n",
    "    buffer_ = pd.read_feather(Path(\"../\") /\"chess_ai\"/ \"rlagent\" / \"data\" / \"dataframe\" / f\"buffer_{i+1}_df.feather\")\n",
    "    buffer = pd.concat([buffer, buffer_])"
   ]
  },
  {
   "cell_type": "code",
   "execution_count": 19,
   "metadata": {},
   "outputs": [],
   "source": [
    "df = buffer"
   ]
  },
  {
   "cell_type": "code",
   "execution_count": 2,
   "metadata": {},
   "outputs": [],
   "source": [
    "#df = pd.read_feather(\"../supervised_dataset_2.feather\")"
   ]
  },
  {
   "cell_type": "code",
   "execution_count": 36,
   "metadata": {},
   "outputs": [],
   "source": [
    "#df[\"value\"] = 1/(1+np.exp(-0.01*df.evaluation))"
   ]
  },
  {
   "cell_type": "code",
   "execution_count": 22,
   "metadata": {},
   "outputs": [
    {
     "data": {
      "text/plain": [
       "2.2101565448298504e-36"
      ]
     },
     "execution_count": 22,
     "metadata": {},
     "output_type": "execute_result"
    }
   ],
   "source": [
    "df.value.min()"
   ]
  },
  {
   "cell_type": "code",
   "execution_count": 20,
   "metadata": {},
   "outputs": [
    {
     "data": {
      "text/plain": [
       "(array([ 4,  0,  3,  5,  6,  3,  2,  4,  1,  1,  1,  1,  1,  1,  1,  1,  0,\n",
       "         0,  2,  0,  0,  0,  0,  0,  0,  0,  0,  0,  0,  0,  0,  0,  0,  0,\n",
       "         0,  0,  0,  0,  0,  0,  0,  0,  0,  0,  0,  0,  0,  0, -1, -1, -1,\n",
       "        -1, -1, -1, -1, -1, -4, -2, -3, -5, -6, -3, -2, -4, -1,  0, 15]),\n",
       " 0.5274723043445937)"
      ]
     },
     "execution_count": 20,
     "metadata": {},
     "output_type": "execute_result"
    }
   ],
   "source": [
    "df.iloc[1].state, df.iloc[1].value"
   ]
  },
  {
   "cell_type": "code",
   "execution_count": 53,
   "metadata": {},
   "outputs": [],
   "source": [
    "pol = df.iloc[1].policy"
   ]
  },
  {
   "cell_type": "code",
   "execution_count": 54,
   "metadata": {},
   "outputs": [
    {
     "data": {
      "text/plain": [
       "'e7e5'"
      ]
     },
     "execution_count": 54,
     "metadata": {},
     "output_type": "execute_result"
    }
   ],
   "source": [
    "MOVES[df.iloc[1].policy.argmax()]"
   ]
  },
  {
   "cell_type": "code",
   "execution_count": 26,
   "metadata": {},
   "outputs": [
    {
     "data": {
      "text/plain": [
       "AlphazeroNetSupervised(\n",
       "  (l1): Linear(in_features=67, out_features=100, bias=True)\n",
       "  (l2): Linear(in_features=100, out_features=1, bias=True)\n",
       "  (l3): Linear(in_features=100, out_features=4208, bias=True)\n",
       "  (activation): Tanh()\n",
       ")"
      ]
     },
     "execution_count": 26,
     "metadata": {},
     "output_type": "execute_result"
    }
   ],
   "source": [
    "model = AlphazeroNetSupervised()\n",
    "model.load_state_dict(torch.load(\"../chess_ai/rlagent/checkpoints/nn_supervised.pth\"))\n",
    "model.eval()"
   ]
  },
  {
   "cell_type": "code",
   "execution_count": 47,
   "metadata": {},
   "outputs": [
    {
     "data": {
      "text/plain": [
       "tensor([[ 4,  2,  3,  5,  6,  3,  2,  4,  1,  1,  1,  1,  0,  1,  1,  1,  0,  0,\n",
       "          0,  0,  0,  0,  0,  0,  0,  0,  0,  0,  1,  0,  0,  0,  0,  0,  0,  0,\n",
       "          0,  0,  0,  0,  0,  0,  0,  0,  0,  0,  0,  0, -1, -1, -1, -1, -1, -1,\n",
       "         -1, -1, -4, -2, -3, -5, -6, -3, -2, -4, -1,  0, 15]])"
      ]
     },
     "execution_count": 47,
     "metadata": {},
     "output_type": "execute_result"
    }
   ],
   "source": [
    "torch.tensor(df.iloc[1].state).view(-1,67)"
   ]
  },
  {
   "cell_type": "code",
   "execution_count": 46,
   "metadata": {},
   "outputs": [
    {
     "name": "stdout",
     "output_type": "stream",
     "text": [
      "[4, 2, 3, 5, 6, 3, 2, 4, 1, 1, 1, 1, 0, 1, 1, 1, 0, 0, 0, 0, 0, 0, 0, 0, 0, 0, 0, 0, 1, 0, 0, 0, 0, 0, 0, 0, 0, 0, 0, 0, 0, 0, 0, 0, 0, 0, 0, 0, -1, -1, -1, -1, -1, -1, -1, -1, -4, -2, -3, -5, -6, -3, -2, -4, -1, 5, 15]\n"
     ]
    }
   ],
   "source": [
    "print(encode_state(Chess().move(\"e2e4\").state))"
   ]
  },
  {
   "cell_type": "code",
   "execution_count": 59,
   "metadata": {},
   "outputs": [],
   "source": [
    "value_pred_train, policy_pred_train = model(torch.tensor(df.iloc[1].state, dtype=torch.float32).view(-1,67))\n",
    "value_pred, policy_pred = model(torch.tensor(encode_state(Chess().move(\"e2e4\").state), dtype=torch.float32).view(-1, 67))"
   ]
  },
  {
   "cell_type": "code",
   "execution_count": 60,
   "metadata": {},
   "outputs": [
    {
     "name": "stdout",
     "output_type": "stream",
     "text": [
      "tensor([[0.5420]], grad_fn=<TanhBackward0>) tensor([[7.3826e-18, 7.3826e-18, 7.3826e-18,  ..., 7.3826e-18, 7.3826e-18,\n",
      "         7.3826e-18]], grad_fn=<SoftmaxBackward0>)\n",
      "Net pred tensor([[0.5926]], grad_fn=<TanhBackward0>) tensor([[5.1872e-18, 5.1872e-18, 5.1872e-18,  ..., 5.1872e-18, 5.1872e-18,\n",
      "         5.1872e-18]], grad_fn=<SoftmaxBackward0>)\n"
     ]
    }
   ],
   "source": [
    "print(value_pred_train, policy_pred_train)\n",
    "print(\"Net pred\", value_pred, policy_pred)"
   ]
  },
  {
   "cell_type": "code",
   "execution_count": 67,
   "metadata": {},
   "outputs": [
    {
     "data": {
      "text/plain": [
       "'e7e6'"
      ]
     },
     "execution_count": 67,
     "metadata": {},
     "output_type": "execute_result"
    }
   ],
   "source": [
    "MOVES[policy_pred.argmax().detach().numpy()]"
   ]
  }
 ],
 "metadata": {
  "kernelspec": {
   "display_name": "Python 3.8.5 ('.venv': poetry)",
   "language": "python",
   "name": "python3"
  },
  "language_info": {
   "codemirror_mode": {
    "name": "ipython",
    "version": 3
   },
   "file_extension": ".py",
   "mimetype": "text/x-python",
   "name": "python",
   "nbconvert_exporter": "python",
   "pygments_lexer": "ipython3",
   "version": "3.8.5"
  },
  "orig_nbformat": 4,
  "vscode": {
   "interpreter": {
    "hash": "416cdf218c0b032ba0e1a8ca226402c9870af1203e129cb306ca6a46a20c6245"
   }
  }
 },
 "nbformat": 4,
 "nbformat_minor": 2
}
